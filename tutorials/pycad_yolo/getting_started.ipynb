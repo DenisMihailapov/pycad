{
 "cells": [
  {
   "cell_type": "markdown",
   "metadata": {},
   "source": [
    "# PYCAD - YOLOv8\n",
    "This tutorial will show you how to download a random dataset using pycad.dataset downloader. Then use the pycad features to prepare the dataset to train YOLOv8 for segmentation.\n",
    "\n",
    "![panoramic](../../assets/panoramic.png)\n",
    "\n",
    "## Scripts\n",
    "This Jupyter notebook is the starting point for this tutorial, where it shows you how to install `pycad`, how to download the dataset and make it ready for training. Then you can start training the model using the script `train.py` then test the model using the script `test.py`.\n",
    "\n",
    "## Installation\n",
    "For this tutorial, you need to install pycad-medic which is the core of this tutorial and ultralytics that will be used to train YOLOv8.\n",
    "```\n",
    "pip install -q pycad-medic\n",
    "```\n",
    "```\n",
    "pip install ultralytics==8.0.142\n",
    "```\n",
    "\n",
    "***Important note:*** this tutorial requires the version 0.0.8 or greater, so if you have lower version please consider upgrading the version using `pip install -U pycad-medic`.\n",
    "\n",
    "## *Disclamaire*\n",
    "Please consider reading the whole notebook, there are several useful information about the project."
   ]
  },
  {
   "cell_type": "markdown",
   "metadata": {},
   "source": [
    "---"
   ]
  },
  {
   "cell_type": "markdown",
   "metadata": {},
   "source": [
    "### Download the dataset\n",
    "For now (v0.0.8), as 2D image segmentation datasets, there is only PanMandibleDataset that is available which is a set of 116 panoramic xray and the masks for mandible. You can explore all the available datasets [here](https://drive.google.com/drive/folders/1pLw1miF2AHZW8V64RTnhk4v63ZYEwx7G?usp=sharing)."
   ]
  },
  {
   "cell_type": "code",
   "execution_count": null,
   "metadata": {},
   "outputs": [],
   "source": [
    "from pycad.datasets.segmentation.diverse import PanMandibleDataset"
   ]
  },
  {
   "cell_type": "code",
   "execution_count": null,
   "metadata": {},
   "outputs": [],
   "source": [
    "dataset_downloader = PanMandibleDataset()\n",
    "dataset_downloader.download('all')"
   ]
  },
  {
   "cell_type": "markdown",
   "metadata": {},
   "source": [
    "### Mask to Polygone\n",
    "You can use the pycad library to convert your mask images into txt polygones. For more information you can check the documentation [here](../../docs/datasets/png_to_txt_mc.md)."
   ]
  },
  {
   "cell_type": "code",
   "execution_count": null,
   "metadata": {},
   "outputs": [],
   "source": [
    "from pycad.datasets import PngToTxtConverterMC"
   ]
  },
  {
   "cell_type": "code",
   "execution_count": null,
   "metadata": {},
   "outputs": [],
   "source": [
    "input_folder = './datasets/xray_panoramic_mandible/masks'\n",
    "output_folder = './datasets/xray_panoramic_mandible/txt'\n",
    "converter = PngToTxtConverterMC(input_folder, output_folder, 0.001) # lets use a coeff of .1%\n",
    "\n",
    "converter.run()"
   ]
  },
  {
   "cell_type": "markdown",
   "metadata": {},
   "source": [
    "### Train-Valid Splitter\n",
    "With pycad you can also do the split to train and valid, you can see the [documentation](../../docs/datasets/data_splitter.md) for more information about this."
   ]
  },
  {
   "cell_type": "code",
   "execution_count": null,
   "metadata": {},
   "outputs": [],
   "source": [
    "from pycad.datasets import DataSplitter"
   ]
  },
  {
   "cell_type": "code",
   "execution_count": null,
   "metadata": {},
   "outputs": [],
   "source": [
    "input_dir_img = './datasets/xray_panoramic_mandible/images'\n",
    "input_dir_labels = './datasets/xray_panoramic_mandible/txt'\n",
    "output_dir = './datasets/xray_panoramic_mandible/yolo'\n",
    "\n",
    "splitter = DataSplitter(input_dir_img, input_dir_labels, output_dir, .8)\n",
    "splitter.run()"
   ]
  },
  {
   "cell_type": "markdown",
   "metadata": {},
   "source": [
    "### Dataset.yaml\n",
    "You don't know how to create the `dataset.yaml` file to train your YOLOv8 model? Pycad got you there! And the [documentation](../../docs/datasets/yolo_dataset_yaml.md) is here for you."
   ]
  },
  {
   "cell_type": "code",
   "execution_count": null,
   "metadata": {},
   "outputs": [],
   "source": [
    "from pycad.datasets import YOLODatasetYaml"
   ]
  },
  {
   "cell_type": "code",
   "execution_count": null,
   "metadata": {},
   "outputs": [],
   "source": [
    "path_train = './datasets/xray_panoramic_mandible/yolo/train'\n",
    "path_valid = './datasets/xray_panoramic_mandible/yolo/valid'\n",
    "\n",
    "config = YOLODatasetYaml(path_train, path_valid, 1, \"mandible\")\n",
    "config.create_yaml(\"./datasets/xray_panoramic_mandible/yolo/dataset.yaml\")"
   ]
  },
  {
   "cell_type": "markdown",
   "metadata": {},
   "source": [
    "---"
   ]
  },
  {
   "cell_type": "markdown",
   "metadata": {},
   "source": [
    "## What next?\n",
    "\n",
    "The next step is to train and test the model. To train the model you can use the script `train.py` and don't forget to change the path to your dataset.yaml file (that you generated using pycad). And then you can edit the script `test.py` that will help you predict the mandible from xray using the trained model. \n",
    "\n",
    "The output will look something like this:\n",
    "\n",
    "![prediction](../../assets/panoramic_prediction.png)"
   ]
  },
  {
   "cell_type": "markdown",
   "metadata": {},
   "source": [
    "---"
   ]
  },
  {
   "cell_type": "markdown",
   "metadata": {},
   "source": [
    "## Useful assets! 💡\n",
    "\n",
    "If you want to use the trained model directly, please download it from [here](https://drive.google.com/file/d/1rtR92hWRXSSp9nZC4DARmhScRd9fJbB7/view?usp=sharing)."
   ]
  }
 ],
 "metadata": {
  "kernelspec": {
   "display_name": "Python 3",
   "language": "python",
   "name": "python3"
  },
  "language_info": {
   "codemirror_mode": {
    "name": "ipython",
    "version": 3
   },
   "file_extension": ".py",
   "mimetype": "text/x-python",
   "name": "python",
   "nbconvert_exporter": "python",
   "pygments_lexer": "ipython3",
   "version": "3.10.13"
  }
 },
 "nbformat": 4,
 "nbformat_minor": 2
}
